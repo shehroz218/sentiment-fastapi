{
 "cells": [
  {
   "cell_type": "code",
   "execution_count": null,
   "metadata": {},
   "outputs": [],
   "source": []
  }
 ],
 "metadata": {
  "kernelspec": {
   "display_name": "Python 3.10.5 64-bit (windows store)",
   "language": "python",
   "name": "python3"
  },
  "language_info": {
   "name": "python",
   "version": "3.10.5"
  },
  "orig_nbformat": 4,
  "vscode": {
   "interpreter": {
    "hash": "b823bbece77a13ebcec689e34dd80723d1220699176f91d617a6554bbff1c70f"
   }
  }
 },
 "nbformat": 4,
 "nbformat_minor": 2
}
